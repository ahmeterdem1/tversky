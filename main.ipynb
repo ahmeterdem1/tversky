{
 "cells": [
  {
   "cell_type": "code",
   "execution_count": 1,
   "id": "initial_id",
   "metadata": {
    "collapsed": true,
    "ExecuteTime": {
     "end_time": "2025-08-08T11:32:07.047161Z",
     "start_time": "2025-08-08T11:32:05.420427Z"
    }
   },
   "outputs": [],
   "source": [
    "import torch\n",
    "import torch.optim as optim\n",
    "import torch.nn as nn\n",
    "from utils.data import * \n",
    "from utils.models import * \n",
    "from utils.train import *\n",
    "from tqdm import tqdm\n",
    "import numpy as np\n",
    "import matplotlib.pyplot as plt\n",
    "\n",
    "%matplotlib inline\n"
   ]
  },
  {
   "cell_type": "code",
   "execution_count": 2,
   "outputs": [
    {
     "name": "stdout",
     "output_type": "stream",
     "text": [
      "Files already downloaded and verified\n",
      "Files already downloaded and verified\n"
     ]
    }
   ],
   "source": [
    "train_loader, test_loader = load_cifar10(batch_size=32)"
   ],
   "metadata": {
    "collapsed": false,
    "ExecuteTime": {
     "end_time": "2025-08-08T11:32:08.802700Z",
     "start_time": "2025-08-08T11:32:07.537921Z"
    }
   },
   "id": "7563048f57238b2a"
  },
  {
   "cell_type": "code",
   "execution_count": 3,
   "outputs": [],
   "source": [
    "criterion = nn.CrossEntropyLoss()"
   ],
   "metadata": {
    "collapsed": false,
    "ExecuteTime": {
     "end_time": "2025-08-08T11:32:08.806140Z",
     "start_time": "2025-08-08T11:32:08.803353Z"
    }
   },
   "id": "afc2d8c3a42e4649"
  },
  {
   "cell_type": "code",
   "execution_count": 10,
   "outputs": [
    {
     "name": "stdout",
     "output_type": "stream",
     "text": [
      "Round 1/5\n"
     ]
    },
    {
     "name": "stderr",
     "output_type": "stream",
     "text": [
      "Epoch 1: 100%|██████████| 1563/1563 [00:12<00:00, 129.48it/s, loss=1.21]\n",
      "Epoch 2: 100%|██████████| 1563/1563 [00:11<00:00, 131.39it/s, loss=1.08] \n",
      "Epoch 3: 100%|██████████| 1563/1563 [00:11<00:00, 131.74it/s, loss=0.926]\n",
      "Epoch 4: 100%|██████████| 1563/1563 [00:11<00:00, 131.67it/s, loss=0.638]\n",
      "Epoch 5: 100%|██████████| 1563/1563 [00:12<00:00, 129.28it/s, loss=0.681]\n",
      "100%|██████████| 313/313 [00:01<00:00, 280.30it/s]\n"
     ]
    },
    {
     "name": "stdout",
     "output_type": "stream",
     "text": [
      "Round 1 - Loss: 0.6702, Accuracy: 0.6645\n",
      "Round 2/5\n"
     ]
    },
    {
     "name": "stderr",
     "output_type": "stream",
     "text": [
      "Epoch 1: 100%|██████████| 1563/1563 [00:11<00:00, 132.59it/s, loss=1.18]\n",
      "Epoch 2: 100%|██████████| 1563/1563 [00:11<00:00, 131.61it/s, loss=0.969]\n",
      "Epoch 3: 100%|██████████| 1563/1563 [00:11<00:00, 131.57it/s, loss=0.943]\n",
      "Epoch 4: 100%|██████████| 1563/1563 [00:11<00:00, 131.76it/s, loss=0.77] \n",
      "Epoch 5: 100%|██████████| 1563/1563 [00:11<00:00, 131.49it/s, loss=0.704]\n",
      "100%|██████████| 313/313 [00:01<00:00, 275.65it/s]\n"
     ]
    },
    {
     "name": "stdout",
     "output_type": "stream",
     "text": [
      "Round 2 - Loss: 0.6827, Accuracy: 0.6661\n",
      "Round 3/5\n"
     ]
    },
    {
     "name": "stderr",
     "output_type": "stream",
     "text": [
      "Epoch 1: 100%|██████████| 1563/1563 [00:11<00:00, 131.81it/s, loss=2.3] \n",
      "Epoch 2: 100%|██████████| 1563/1563 [00:11<00:00, 132.76it/s, loss=2.3]\n",
      "Epoch 3: 100%|██████████| 1563/1563 [00:11<00:00, 133.02it/s, loss=2.3]\n",
      "Epoch 4: 100%|██████████| 1563/1563 [00:11<00:00, 133.31it/s, loss=2.3]\n",
      "Epoch 5: 100%|██████████| 1563/1563 [00:11<00:00, 132.64it/s, loss=2.3]\n",
      "100%|██████████| 313/313 [00:01<00:00, 278.82it/s]\n"
     ]
    },
    {
     "name": "stdout",
     "output_type": "stream",
     "text": [
      "Round 3 - Loss: 2.3026, Accuracy: 0.1000\n",
      "Round 4/5\n"
     ]
    },
    {
     "name": "stderr",
     "output_type": "stream",
     "text": [
      "Epoch 1: 100%|██████████| 1563/1563 [00:11<00:00, 131.85it/s, loss=2.3]\n",
      "Epoch 2: 100%|██████████| 1563/1563 [00:11<00:00, 132.09it/s, loss=2.3]\n",
      "Epoch 3: 100%|██████████| 1563/1563 [00:11<00:00, 132.15it/s, loss=2.3]\n",
      "Epoch 4: 100%|██████████| 1563/1563 [00:11<00:00, 132.90it/s, loss=2.3]\n",
      "Epoch 5: 100%|██████████| 1563/1563 [00:11<00:00, 133.83it/s, loss=2.3]\n",
      "100%|██████████| 313/313 [00:01<00:00, 282.65it/s]\n"
     ]
    },
    {
     "name": "stdout",
     "output_type": "stream",
     "text": [
      "Round 4 - Loss: 2.3026, Accuracy: 0.1000\n",
      "Round 5/5\n"
     ]
    },
    {
     "name": "stderr",
     "output_type": "stream",
     "text": [
      "Epoch 1: 100%|██████████| 1563/1563 [00:11<00:00, 131.88it/s, loss=1.26]\n",
      "Epoch 2: 100%|██████████| 1563/1563 [00:11<00:00, 131.76it/s, loss=1.08] \n",
      "Epoch 3: 100%|██████████| 1563/1563 [00:11<00:00, 131.82it/s, loss=1]    \n",
      "Epoch 4: 100%|██████████| 1563/1563 [00:11<00:00, 131.71it/s, loss=0.766]\n",
      "Epoch 5: 100%|██████████| 1563/1563 [00:11<00:00, 132.29it/s, loss=0.68] \n",
      "100%|██████████| 313/313 [00:01<00:00, 278.81it/s]"
     ]
    },
    {
     "name": "stdout",
     "output_type": "stream",
     "text": [
      "Round 5 - Loss: 0.7382, Accuracy: 0.6661\n"
     ]
    },
    {
     "name": "stderr",
     "output_type": "stream",
     "text": [
      "\n"
     ]
    }
   ],
   "source": [
    "acc_mean, acc_std = statistical_evaluation(TverskyModel, optim.Adam, criterion, \n",
    "                                           train_loader, test_loader, device=\"mps\",\n",
    "                                           model_kwargs={\"initialization\": \"orthogonal\",\n",
    "                                                         \"in_channels\": 3,\n",
    "                                                         \"in_width\": 32})"
   ],
   "metadata": {
    "collapsed": false,
    "ExecuteTime": {
     "end_time": "2025-08-08T11:57:45.263262Z",
     "start_time": "2025-08-08T11:52:43.416654Z"
    }
   },
   "id": "e373a43a6ea174a6"
  },
  {
   "cell_type": "code",
   "execution_count": 11,
   "outputs": [
    {
     "name": "stdout",
     "output_type": "stream",
     "text": [
      "Accuracy: 0.4393 ± 0.2771\n"
     ]
    }
   ],
   "source": [
    "print(f\"Accuracy: {acc_mean:.4f} ± {acc_std:.4f}\")"
   ],
   "metadata": {
    "collapsed": false,
    "ExecuteTime": {
     "end_time": "2025-08-08T11:57:45.265876Z",
     "start_time": "2025-08-08T11:57:45.264963Z"
    }
   },
   "id": "9e2a681ace427030"
  },
  {
   "cell_type": "code",
   "execution_count": null,
   "outputs": [],
   "source": [
    "acc_mean, acc_std = statistical_evaluation(BaseModel, optim.Adam, criterion, \n",
    "                                           train_loader, test_loader, device=\"mps\",\n",
    "                                           model_kwargs={\"in_channels\": 3,\n",
    "                                                         \"in_width\": 32})"
   ],
   "metadata": {
    "collapsed": false
   },
   "id": "9d22b77a44e08f55"
  },
  {
   "cell_type": "code",
   "execution_count": 7,
   "outputs": [
    {
     "name": "stdout",
     "output_type": "stream",
     "text": [
      "Accuracy: 0.6723 ± 0.0060\n"
     ]
    }
   ],
   "source": [
    "print(f\"Accuracy: {acc_mean:.4f} ± {acc_std:.4f}\")"
   ],
   "metadata": {
    "collapsed": false,
    "ExecuteTime": {
     "end_time": "2025-08-08T11:43:02.106505Z",
     "start_time": "2025-08-08T11:43:02.103242Z"
    }
   },
   "id": "9f15018f17ef218f"
  },
  {
   "cell_type": "code",
   "execution_count": 5,
   "outputs": [],
   "source": [
    "model = TverskyModel()\n",
    "optimizer = optim.Adam(model.parameters(), lr=0.001)\n",
    "criterion = nn.CrossEntropyLoss()"
   ],
   "metadata": {
    "collapsed": false,
    "ExecuteTime": {
     "end_time": "2025-08-07T12:20:19.493849Z",
     "start_time": "2025-08-07T12:20:19.487127Z"
    }
   },
   "id": "4d76015ebea47948"
  },
  {
   "cell_type": "code",
   "execution_count": 6,
   "outputs": [
    {
     "name": "stderr",
     "output_type": "stream",
     "text": [
      "Epoch 1: 100%|██████████| 1875/1875 [00:27<00:00, 68.32it/s, loss=0.685]  \n",
      "Epoch 2: 100%|██████████| 1875/1875 [00:27<00:00, 69.05it/s, loss=0.0436]  \n",
      "Epoch 3: 100%|██████████| 1875/1875 [00:27<00:00, 68.45it/s, loss=0.339]  \n",
      "Epoch 4: 100%|██████████| 1875/1875 [00:27<00:00, 68.23it/s, loss=0.19]   \n",
      "Epoch 5: 100%|██████████| 1875/1875 [00:27<00:00, 68.96it/s, loss=0.0173]  \n"
     ]
    }
   ],
   "source": [
    "losses = []\n",
    "\n",
    "for epoch in range(5):\n",
    "    with tqdm(train_loader, unit=\"it\") as loop:\n",
    "        loop.set_description(f\"Epoch {epoch+1}\")\n",
    "        for batch in loop:\n",
    "            x, y = batch\n",
    "            optimizer.zero_grad()\n",
    "            output = model(x)\n",
    "            loss = criterion(output, y)\n",
    "            loss.backward()\n",
    "            optimizer.step()\n",
    "            loop.set_postfix(loss=loss.item())\n",
    "            losses.append(loss.item())"
   ],
   "metadata": {
    "collapsed": false,
    "ExecuteTime": {
     "end_time": "2025-08-07T12:22:36.726919Z",
     "start_time": "2025-08-07T12:20:20.065683Z"
    }
   },
   "id": "eda6a7f575f6d608"
  },
  {
   "cell_type": "code",
   "execution_count": 7,
   "outputs": [
    {
     "data": {
      "text/plain": "<Figure size 640x480 with 1 Axes>",
      "image/png": "[encoded data removed]"
     },
     "metadata": {},
     "output_type": "display_data"
    }
   ],
   "source": [
    "plt.title(\"Loss change during training\")\n",
    "plt.plot(losses)\n",
    "plt.show()"
   ],
   "metadata": {
    "collapsed": false,
    "ExecuteTime": {
     "end_time": "2025-08-07T12:23:37.586995Z",
     "start_time": "2025-08-07T12:23:37.451639Z"
    }
   },
   "id": "fb3d60098010b748"
  },
  {
   "cell_type": "code",
   "execution_count": 8,
   "outputs": [
    {
     "name": "stdout",
     "output_type": "stream",
     "text": [
      "Accuracy: 97.88%\n"
     ]
    }
   ],
   "source": [
    "with torch.no_grad():\n",
    "    correct = 0\n",
    "    total = 0\n",
    "    for batch in test_loader:\n",
    "        x, y = batch\n",
    "        output = model(x)\n",
    "        _, predicted = torch.max(output.data, 1)\n",
    "        total += y.size(0)\n",
    "        correct += (predicted == y).sum().item()\n",
    "    print(f\"Accuracy: {100 * correct / total:.2f}%\")"
   ],
   "metadata": {
    "collapsed": false,
    "ExecuteTime": {
     "end_time": "2025-08-07T12:26:14.241902Z",
     "start_time": "2025-08-07T12:26:11.962780Z"
    }
   },
   "id": "c825a3ec99679999"
  },
  {
   "cell_type": "code",
   "execution_count": null,
   "outputs": [],
   "source": [],
   "metadata": {
    "collapsed": false
   },
   "id": "5315138873c1d45a"
  }
 ],
 "metadata": {
  "kernelspec": {
   "display_name": "Python 3",
   "language": "python",
   "name": "python3"
  },
  "language_info": {
   "codemirror_mode": {
    "name": "ipython",
    "version": 2
   },
   "file_extension": ".py",
   "mimetype": "text/x-python",
   "name": "python",
   "nbconvert_exporter": "python",
   "pygments_lexer": "ipython2",
   "version": "2.7.6"
  }
 },
 "nbformat": 4,
 "nbformat_minor": 5
}
